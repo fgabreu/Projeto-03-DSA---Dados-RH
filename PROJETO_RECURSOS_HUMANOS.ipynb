{
  "nbformat": 4,
  "nbformat_minor": 0,
  "metadata": {
    "colab": {
      "name": "PROJETO RECURSOS HUMANOS",
      "provenance": [],
      "authorship_tag": "ABX9TyN1WGDmowI+MG6ajER0QDr4",
      "include_colab_link": true
    },
    "kernelspec": {
      "name": "python3",
      "display_name": "Python 3"
    },
    "language_info": {
      "name": "python"
    }
  },
  "cells": [
    {
      "cell_type": "markdown",
      "metadata": {
        "id": "view-in-github",
        "colab_type": "text"
      },
      "source": [
        "<a href=\"https://colab.research.google.com/github/fgabreu/Projeto-03-DSA---Dados-RH/blob/main/PROJETO_RECURSOS_HUMANOS.ipynb\" target=\"_parent\"><img src=\"https://colab.research.google.com/assets/colab-badge.svg\" alt=\"Open In Colab\"/></a>"
      ]
    },
    {
      "cell_type": "markdown",
      "source": [
        "**Carregando e Instalando Pacotes**"
      ],
      "metadata": {
        "id": "FcBc4NpRqDKQ"
      }
    },
    {
      "cell_type": "code",
      "source": [
        "#imports\n",
        "import numpy as np\n",
        "import pandas as pd\n",
        "import matplotlib\n",
        "import matplotlib.pyplot as plt\n",
        "import seaborn as sns"
      ],
      "metadata": {
        "id": "mNrlggvCqMJv"
      },
      "execution_count": 3,
      "outputs": []
    },
    {
      "cell_type": "markdown",
      "source": [
        "**Carregando os Dados**"
      ],
      "metadata": {
        "id": "Ny1MHjcfroLh"
      }
    },
    {
      "cell_type": "code",
      "source": [
        "dadosRH = pd.read_csv('dadosRH.csv')"
      ],
      "metadata": {
        "id": "IRcBwhIErrWS"
      },
      "execution_count": 4,
      "outputs": []
    },
    {
      "cell_type": "code",
      "source": [
        "dadosRH.head()"
      ],
      "metadata": {
        "colab": {
          "base_uri": "https://localhost:8080/",
          "height": 206
        },
        "id": "bJePgbjIsK-t",
        "outputId": "91df10a7-5506-4489-8a8c-a734dc02afb8"
      },
      "execution_count": 5,
      "outputs": [
        {
          "output_type": "execute_result",
          "data": {
            "text/plain": [
              "   id_funcionario departmento    regiao               educacao genero  \\\n",
              "0           65438   Marketing   Sudeste  Mestrado ou Doutorado      F   \n",
              "1           65141   Logistica  Nordeste               Superior      M   \n",
              "2            7513   Marketing   Sudeste               Superior      M   \n",
              "3            2542   Marketing     Norte               Superior      M   \n",
              "4           48945  Tecnologia  Nordeste               Superior      M   \n",
              "\n",
              "  canal_recrutamento  numero_treinamentos  idade  aval_ano_anterior  \\\n",
              "0        Outsourcing                    1     35                5.0   \n",
              "1              Outro                    1     30                5.0   \n",
              "2        Outsourcing                    1     34                3.0   \n",
              "3              Outro                    2     39                1.0   \n",
              "4              Outro                    1     45                3.0   \n",
              "\n",
              "   tempo_servico  promovido  \n",
              "0              8          0  \n",
              "1              4          0  \n",
              "2              7          0  \n",
              "3             10          0  \n",
              "4              2          0  "
            ],
            "text/html": [
              "\n",
              "  <div id=\"df-1714f2e1-ae9b-43f5-a4e3-0a92bd2905ec\">\n",
              "    <div class=\"colab-df-container\">\n",
              "      <div>\n",
              "<style scoped>\n",
              "    .dataframe tbody tr th:only-of-type {\n",
              "        vertical-align: middle;\n",
              "    }\n",
              "\n",
              "    .dataframe tbody tr th {\n",
              "        vertical-align: top;\n",
              "    }\n",
              "\n",
              "    .dataframe thead th {\n",
              "        text-align: right;\n",
              "    }\n",
              "</style>\n",
              "<table border=\"1\" class=\"dataframe\">\n",
              "  <thead>\n",
              "    <tr style=\"text-align: right;\">\n",
              "      <th></th>\n",
              "      <th>id_funcionario</th>\n",
              "      <th>departmento</th>\n",
              "      <th>regiao</th>\n",
              "      <th>educacao</th>\n",
              "      <th>genero</th>\n",
              "      <th>canal_recrutamento</th>\n",
              "      <th>numero_treinamentos</th>\n",
              "      <th>idade</th>\n",
              "      <th>aval_ano_anterior</th>\n",
              "      <th>tempo_servico</th>\n",
              "      <th>promovido</th>\n",
              "    </tr>\n",
              "  </thead>\n",
              "  <tbody>\n",
              "    <tr>\n",
              "      <th>0</th>\n",
              "      <td>65438</td>\n",
              "      <td>Marketing</td>\n",
              "      <td>Sudeste</td>\n",
              "      <td>Mestrado ou Doutorado</td>\n",
              "      <td>F</td>\n",
              "      <td>Outsourcing</td>\n",
              "      <td>1</td>\n",
              "      <td>35</td>\n",
              "      <td>5.0</td>\n",
              "      <td>8</td>\n",
              "      <td>0</td>\n",
              "    </tr>\n",
              "    <tr>\n",
              "      <th>1</th>\n",
              "      <td>65141</td>\n",
              "      <td>Logistica</td>\n",
              "      <td>Nordeste</td>\n",
              "      <td>Superior</td>\n",
              "      <td>M</td>\n",
              "      <td>Outro</td>\n",
              "      <td>1</td>\n",
              "      <td>30</td>\n",
              "      <td>5.0</td>\n",
              "      <td>4</td>\n",
              "      <td>0</td>\n",
              "    </tr>\n",
              "    <tr>\n",
              "      <th>2</th>\n",
              "      <td>7513</td>\n",
              "      <td>Marketing</td>\n",
              "      <td>Sudeste</td>\n",
              "      <td>Superior</td>\n",
              "      <td>M</td>\n",
              "      <td>Outsourcing</td>\n",
              "      <td>1</td>\n",
              "      <td>34</td>\n",
              "      <td>3.0</td>\n",
              "      <td>7</td>\n",
              "      <td>0</td>\n",
              "    </tr>\n",
              "    <tr>\n",
              "      <th>3</th>\n",
              "      <td>2542</td>\n",
              "      <td>Marketing</td>\n",
              "      <td>Norte</td>\n",
              "      <td>Superior</td>\n",
              "      <td>M</td>\n",
              "      <td>Outro</td>\n",
              "      <td>2</td>\n",
              "      <td>39</td>\n",
              "      <td>1.0</td>\n",
              "      <td>10</td>\n",
              "      <td>0</td>\n",
              "    </tr>\n",
              "    <tr>\n",
              "      <th>4</th>\n",
              "      <td>48945</td>\n",
              "      <td>Tecnologia</td>\n",
              "      <td>Nordeste</td>\n",
              "      <td>Superior</td>\n",
              "      <td>M</td>\n",
              "      <td>Outro</td>\n",
              "      <td>1</td>\n",
              "      <td>45</td>\n",
              "      <td>3.0</td>\n",
              "      <td>2</td>\n",
              "      <td>0</td>\n",
              "    </tr>\n",
              "  </tbody>\n",
              "</table>\n",
              "</div>\n",
              "      <button class=\"colab-df-convert\" onclick=\"convertToInteractive('df-1714f2e1-ae9b-43f5-a4e3-0a92bd2905ec')\"\n",
              "              title=\"Convert this dataframe to an interactive table.\"\n",
              "              style=\"display:none;\">\n",
              "        \n",
              "  <svg xmlns=\"http://www.w3.org/2000/svg\" height=\"24px\"viewBox=\"0 0 24 24\"\n",
              "       width=\"24px\">\n",
              "    <path d=\"M0 0h24v24H0V0z\" fill=\"none\"/>\n",
              "    <path d=\"M18.56 5.44l.94 2.06.94-2.06 2.06-.94-2.06-.94-.94-2.06-.94 2.06-2.06.94zm-11 1L8.5 8.5l.94-2.06 2.06-.94-2.06-.94L8.5 2.5l-.94 2.06-2.06.94zm10 10l.94 2.06.94-2.06 2.06-.94-2.06-.94-.94-2.06-.94 2.06-2.06.94z\"/><path d=\"M17.41 7.96l-1.37-1.37c-.4-.4-.92-.59-1.43-.59-.52 0-1.04.2-1.43.59L10.3 9.45l-7.72 7.72c-.78.78-.78 2.05 0 2.83L4 21.41c.39.39.9.59 1.41.59.51 0 1.02-.2 1.41-.59l7.78-7.78 2.81-2.81c.8-.78.8-2.07 0-2.86zM5.41 20L4 18.59l7.72-7.72 1.47 1.35L5.41 20z\"/>\n",
              "  </svg>\n",
              "      </button>\n",
              "      \n",
              "  <style>\n",
              "    .colab-df-container {\n",
              "      display:flex;\n",
              "      flex-wrap:wrap;\n",
              "      gap: 12px;\n",
              "    }\n",
              "\n",
              "    .colab-df-convert {\n",
              "      background-color: #E8F0FE;\n",
              "      border: none;\n",
              "      border-radius: 50%;\n",
              "      cursor: pointer;\n",
              "      display: none;\n",
              "      fill: #1967D2;\n",
              "      height: 32px;\n",
              "      padding: 0 0 0 0;\n",
              "      width: 32px;\n",
              "    }\n",
              "\n",
              "    .colab-df-convert:hover {\n",
              "      background-color: #E2EBFA;\n",
              "      box-shadow: 0px 1px 2px rgba(60, 64, 67, 0.3), 0px 1px 3px 1px rgba(60, 64, 67, 0.15);\n",
              "      fill: #174EA6;\n",
              "    }\n",
              "\n",
              "    [theme=dark] .colab-df-convert {\n",
              "      background-color: #3B4455;\n",
              "      fill: #D2E3FC;\n",
              "    }\n",
              "\n",
              "    [theme=dark] .colab-df-convert:hover {\n",
              "      background-color: #434B5C;\n",
              "      box-shadow: 0px 1px 3px 1px rgba(0, 0, 0, 0.15);\n",
              "      filter: drop-shadow(0px 1px 2px rgba(0, 0, 0, 0.3));\n",
              "      fill: #FFFFFF;\n",
              "    }\n",
              "  </style>\n",
              "\n",
              "      <script>\n",
              "        const buttonEl =\n",
              "          document.querySelector('#df-1714f2e1-ae9b-43f5-a4e3-0a92bd2905ec button.colab-df-convert');\n",
              "        buttonEl.style.display =\n",
              "          google.colab.kernel.accessAllowed ? 'block' : 'none';\n",
              "\n",
              "        async function convertToInteractive(key) {\n",
              "          const element = document.querySelector('#df-1714f2e1-ae9b-43f5-a4e3-0a92bd2905ec');\n",
              "          const dataTable =\n",
              "            await google.colab.kernel.invokeFunction('convertToInteractive',\n",
              "                                                     [key], {});\n",
              "          if (!dataTable) return;\n",
              "\n",
              "          const docLinkHtml = 'Like what you see? Visit the ' +\n",
              "            '<a target=\"_blank\" href=https://colab.research.google.com/notebooks/data_table.ipynb>data table notebook</a>'\n",
              "            + ' to learn more about interactive tables.';\n",
              "          element.innerHTML = '';\n",
              "          dataTable['output_type'] = 'display_data';\n",
              "          await google.colab.output.renderOutput(dataTable, element);\n",
              "          const docLink = document.createElement('div');\n",
              "          docLink.innerHTML = docLinkHtml;\n",
              "          element.appendChild(docLink);\n",
              "        }\n",
              "      </script>\n",
              "    </div>\n",
              "  </div>\n",
              "  "
            ]
          },
          "metadata": {},
          "execution_count": 5
        }
      ]
    },
    {
      "cell_type": "code",
      "source": [
        "dadosRH.shape"
      ],
      "metadata": {
        "colab": {
          "base_uri": "https://localhost:8080/"
        },
        "id": "VQXF0HhwsT0U",
        "outputId": "35cc022d-33dd-47b6-a19d-24cb83c5a7f1"
      },
      "execution_count": 6,
      "outputs": [
        {
          "output_type": "execute_result",
          "data": {
            "text/plain": [
              "(54808, 11)"
            ]
          },
          "metadata": {},
          "execution_count": 6
        }
      ]
    },
    {
      "cell_type": "markdown",
      "source": [
        "**Análise Exploratória, Limpeza e Transformação de Dados**\n",
        "\n",
        "Vamos manipular os dados e corrigir eventuais problemas."
      ],
      "metadata": {
        "id": "MHgnJ_kqslP4"
      }
    },
    {
      "cell_type": "code",
      "source": [
        "dadosRH.isnull().sum()"
      ],
      "metadata": {
        "colab": {
          "base_uri": "https://localhost:8080/"
        },
        "id": "j_1cIlyjsv-z",
        "outputId": "99649e4b-97cb-4f3b-e09d-e310c5473d96"
      },
      "execution_count": 14,
      "outputs": [
        {
          "output_type": "execute_result",
          "data": {
            "text/plain": [
              "id_funcionario         0\n",
              "departmento            0\n",
              "regiao                 0\n",
              "educacao               0\n",
              "genero                 0\n",
              "canal_recrutamento     0\n",
              "numero_treinamentos    0\n",
              "idade                  0\n",
              "aval_ano_anterior      0\n",
              "tempo_servico          0\n",
              "promovido              0\n",
              "dtype: int64"
            ]
          },
          "metadata": {},
          "execution_count": 14
        }
      ]
    },
    {
      "cell_type": "code",
      "source": [
        "dadosRH.groupby(['educacao']).count()\n",
        "#esse agrupamento não considera os valores ausentes (isnull)"
      ],
      "metadata": {
        "colab": {
          "base_uri": "https://localhost:8080/",
          "height": 175
        },
        "id": "XF3H2hx2tA9p",
        "outputId": "8b45dbaa-6620-4b6a-b027-ccbe58f6ed1f"
      },
      "execution_count": 8,
      "outputs": [
        {
          "output_type": "execute_result",
          "data": {
            "text/plain": [
              "                       id_funcionario  departmento  regiao  genero  \\\n",
              "educacao                                                             \n",
              "Ensino Medio                      805          805     805     805   \n",
              "Mestrado ou Doutorado           14925        14925   14925   14925   \n",
              "Superior                        36669        36669   36669   36669   \n",
              "\n",
              "                       canal_recrutamento  numero_treinamentos  idade  \\\n",
              "educacao                                                                \n",
              "Ensino Medio                          805                  805    805   \n",
              "Mestrado ou Doutorado               14925                14925  14925   \n",
              "Superior                            36669                36669  36669   \n",
              "\n",
              "                       aval_ano_anterior  tempo_servico  promovido  \n",
              "educacao                                                            \n",
              "Ensino Medio                         458            805        805  \n",
              "Mestrado ou Doutorado              14798          14925      14925  \n",
              "Superior                           33404          36669      36669  "
            ],
            "text/html": [
              "\n",
              "  <div id=\"df-93c7e031-03e3-45f0-9bd1-1ea2a7b2c20d\">\n",
              "    <div class=\"colab-df-container\">\n",
              "      <div>\n",
              "<style scoped>\n",
              "    .dataframe tbody tr th:only-of-type {\n",
              "        vertical-align: middle;\n",
              "    }\n",
              "\n",
              "    .dataframe tbody tr th {\n",
              "        vertical-align: top;\n",
              "    }\n",
              "\n",
              "    .dataframe thead th {\n",
              "        text-align: right;\n",
              "    }\n",
              "</style>\n",
              "<table border=\"1\" class=\"dataframe\">\n",
              "  <thead>\n",
              "    <tr style=\"text-align: right;\">\n",
              "      <th></th>\n",
              "      <th>id_funcionario</th>\n",
              "      <th>departmento</th>\n",
              "      <th>regiao</th>\n",
              "      <th>genero</th>\n",
              "      <th>canal_recrutamento</th>\n",
              "      <th>numero_treinamentos</th>\n",
              "      <th>idade</th>\n",
              "      <th>aval_ano_anterior</th>\n",
              "      <th>tempo_servico</th>\n",
              "      <th>promovido</th>\n",
              "    </tr>\n",
              "    <tr>\n",
              "      <th>educacao</th>\n",
              "      <th></th>\n",
              "      <th></th>\n",
              "      <th></th>\n",
              "      <th></th>\n",
              "      <th></th>\n",
              "      <th></th>\n",
              "      <th></th>\n",
              "      <th></th>\n",
              "      <th></th>\n",
              "      <th></th>\n",
              "    </tr>\n",
              "  </thead>\n",
              "  <tbody>\n",
              "    <tr>\n",
              "      <th>Ensino Medio</th>\n",
              "      <td>805</td>\n",
              "      <td>805</td>\n",
              "      <td>805</td>\n",
              "      <td>805</td>\n",
              "      <td>805</td>\n",
              "      <td>805</td>\n",
              "      <td>805</td>\n",
              "      <td>458</td>\n",
              "      <td>805</td>\n",
              "      <td>805</td>\n",
              "    </tr>\n",
              "    <tr>\n",
              "      <th>Mestrado ou Doutorado</th>\n",
              "      <td>14925</td>\n",
              "      <td>14925</td>\n",
              "      <td>14925</td>\n",
              "      <td>14925</td>\n",
              "      <td>14925</td>\n",
              "      <td>14925</td>\n",
              "      <td>14925</td>\n",
              "      <td>14798</td>\n",
              "      <td>14925</td>\n",
              "      <td>14925</td>\n",
              "    </tr>\n",
              "    <tr>\n",
              "      <th>Superior</th>\n",
              "      <td>36669</td>\n",
              "      <td>36669</td>\n",
              "      <td>36669</td>\n",
              "      <td>36669</td>\n",
              "      <td>36669</td>\n",
              "      <td>36669</td>\n",
              "      <td>36669</td>\n",
              "      <td>33404</td>\n",
              "      <td>36669</td>\n",
              "      <td>36669</td>\n",
              "    </tr>\n",
              "  </tbody>\n",
              "</table>\n",
              "</div>\n",
              "      <button class=\"colab-df-convert\" onclick=\"convertToInteractive('df-93c7e031-03e3-45f0-9bd1-1ea2a7b2c20d')\"\n",
              "              title=\"Convert this dataframe to an interactive table.\"\n",
              "              style=\"display:none;\">\n",
              "        \n",
              "  <svg xmlns=\"http://www.w3.org/2000/svg\" height=\"24px\"viewBox=\"0 0 24 24\"\n",
              "       width=\"24px\">\n",
              "    <path d=\"M0 0h24v24H0V0z\" fill=\"none\"/>\n",
              "    <path d=\"M18.56 5.44l.94 2.06.94-2.06 2.06-.94-2.06-.94-.94-2.06-.94 2.06-2.06.94zm-11 1L8.5 8.5l.94-2.06 2.06-.94-2.06-.94L8.5 2.5l-.94 2.06-2.06.94zm10 10l.94 2.06.94-2.06 2.06-.94-2.06-.94-.94-2.06-.94 2.06-2.06.94z\"/><path d=\"M17.41 7.96l-1.37-1.37c-.4-.4-.92-.59-1.43-.59-.52 0-1.04.2-1.43.59L10.3 9.45l-7.72 7.72c-.78.78-.78 2.05 0 2.83L4 21.41c.39.39.9.59 1.41.59.51 0 1.02-.2 1.41-.59l7.78-7.78 2.81-2.81c.8-.78.8-2.07 0-2.86zM5.41 20L4 18.59l7.72-7.72 1.47 1.35L5.41 20z\"/>\n",
              "  </svg>\n",
              "      </button>\n",
              "      \n",
              "  <style>\n",
              "    .colab-df-container {\n",
              "      display:flex;\n",
              "      flex-wrap:wrap;\n",
              "      gap: 12px;\n",
              "    }\n",
              "\n",
              "    .colab-df-convert {\n",
              "      background-color: #E8F0FE;\n",
              "      border: none;\n",
              "      border-radius: 50%;\n",
              "      cursor: pointer;\n",
              "      display: none;\n",
              "      fill: #1967D2;\n",
              "      height: 32px;\n",
              "      padding: 0 0 0 0;\n",
              "      width: 32px;\n",
              "    }\n",
              "\n",
              "    .colab-df-convert:hover {\n",
              "      background-color: #E2EBFA;\n",
              "      box-shadow: 0px 1px 2px rgba(60, 64, 67, 0.3), 0px 1px 3px 1px rgba(60, 64, 67, 0.15);\n",
              "      fill: #174EA6;\n",
              "    }\n",
              "\n",
              "    [theme=dark] .colab-df-convert {\n",
              "      background-color: #3B4455;\n",
              "      fill: #D2E3FC;\n",
              "    }\n",
              "\n",
              "    [theme=dark] .colab-df-convert:hover {\n",
              "      background-color: #434B5C;\n",
              "      box-shadow: 0px 1px 3px 1px rgba(0, 0, 0, 0.15);\n",
              "      filter: drop-shadow(0px 1px 2px rgba(0, 0, 0, 0.3));\n",
              "      fill: #FFFFFF;\n",
              "    }\n",
              "  </style>\n",
              "\n",
              "      <script>\n",
              "        const buttonEl =\n",
              "          document.querySelector('#df-93c7e031-03e3-45f0-9bd1-1ea2a7b2c20d button.colab-df-convert');\n",
              "        buttonEl.style.display =\n",
              "          google.colab.kernel.accessAllowed ? 'block' : 'none';\n",
              "\n",
              "        async function convertToInteractive(key) {\n",
              "          const element = document.querySelector('#df-93c7e031-03e3-45f0-9bd1-1ea2a7b2c20d');\n",
              "          const dataTable =\n",
              "            await google.colab.kernel.invokeFunction('convertToInteractive',\n",
              "                                                     [key], {});\n",
              "          if (!dataTable) return;\n",
              "\n",
              "          const docLinkHtml = 'Like what you see? Visit the ' +\n",
              "            '<a target=\"_blank\" href=https://colab.research.google.com/notebooks/data_table.ipynb>data table notebook</a>'\n",
              "            + ' to learn more about interactive tables.';\n",
              "          element.innerHTML = '';\n",
              "          dataTable['output_type'] = 'display_data';\n",
              "          await google.colab.output.renderOutput(dataTable, element);\n",
              "          const docLink = document.createElement('div');\n",
              "          docLink.innerHTML = docLinkHtml;\n",
              "          element.appendChild(docLink);\n",
              "        }\n",
              "      </script>\n",
              "    </div>\n",
              "  </div>\n",
              "  "
            ]
          },
          "metadata": {},
          "execution_count": 8
        }
      ]
    },
    {
      "cell_type": "code",
      "source": [
        "sns.countplot(dadosRH['educacao'])"
      ],
      "metadata": {
        "colab": {
          "base_uri": "https://localhost:8080/",
          "height": 351
        },
        "id": "n68Fg-BztBKN",
        "outputId": "7aa5fea6-933c-45b8-8507-358b69c7ebe1"
      },
      "execution_count": 9,
      "outputs": [
        {
          "output_type": "stream",
          "name": "stderr",
          "text": [
            "/usr/local/lib/python3.7/dist-packages/seaborn/_decorators.py:43: FutureWarning: Pass the following variable as a keyword arg: x. From version 0.12, the only valid positional argument will be `data`, and passing other arguments without an explicit keyword will result in an error or misinterpretation.\n",
            "  FutureWarning\n"
          ]
        },
        {
          "output_type": "execute_result",
          "data": {
            "text/plain": [
              "<matplotlib.axes._subplots.AxesSubplot at 0x7f259ac00350>"
            ]
          },
          "metadata": {},
          "execution_count": 9
        },
        {
          "output_type": "display_data",
          "data": {
            "text/plain": [
              "<Figure size 432x288 with 1 Axes>"
            ],
            "image/png": "[encoded data removed]"
          },
          "metadata": {
            "needs_background": "light"
          }
        }
      ]
    },
    {
      "cell_type": "code",
      "source": [
        "dadosRH.groupby(['aval_ano_anterior']).count()"
      ],
      "metadata": {
        "colab": {
          "base_uri": "https://localhost:8080/",
          "height": 238
        },
        "id": "XvOaDVNmtBU0",
        "outputId": "2dbb5e70-b352-45ee-bc33-6d3ae92ed60c"
      },
      "execution_count": 10,
      "outputs": [
        {
          "output_type": "execute_result",
          "data": {
            "text/plain": [
              "                   id_funcionario  departmento  regiao  educacao  genero  \\\n",
              "aval_ano_anterior                                                          \n",
              "1.0                          6223         6223    6223      5887    6223   \n",
              "2.0                          4225         4225    4225      4035    4225   \n",
              "3.0                         18618        18618   18618     17867   18618   \n",
              "4.0                          9877         9877    9877      9509    9877   \n",
              "5.0                         11741        11741   11741     11362   11741   \n",
              "\n",
              "                   canal_recrutamento  numero_treinamentos  idade  \\\n",
              "aval_ano_anterior                                                   \n",
              "1.0                              6223                 6223   6223   \n",
              "2.0                              4225                 4225   4225   \n",
              "3.0                             18618                18618  18618   \n",
              "4.0                              9877                 9877   9877   \n",
              "5.0                             11741                11741  11741   \n",
              "\n",
              "                   tempo_servico  promovido  \n",
              "aval_ano_anterior                            \n",
              "1.0                         6223       6223  \n",
              "2.0                         4225       4225  \n",
              "3.0                        18618      18618  \n",
              "4.0                         9877       9877  \n",
              "5.0                        11741      11741  "
            ],
            "text/html": [
              "\n",
              "  <div id=\"df-3c49ba6f-8ccb-4e0f-944d-fab27e36f0a8\">\n",
              "    <div class=\"colab-df-container\">\n",
              "      <div>\n",
              "<style scoped>\n",
              "    .dataframe tbody tr th:only-of-type {\n",
              "        vertical-align: middle;\n",
              "    }\n",
              "\n",
              "    .dataframe tbody tr th {\n",
              "        vertical-align: top;\n",
              "    }\n",
              "\n",
              "    .dataframe thead th {\n",
              "        text-align: right;\n",
              "    }\n",
              "</style>\n",
              "<table border=\"1\" class=\"dataframe\">\n",
              "  <thead>\n",
              "    <tr style=\"text-align: right;\">\n",
              "      <th></th>\n",
              "      <th>id_funcionario</th>\n",
              "      <th>departmento</th>\n",
              "      <th>regiao</th>\n",
              "      <th>educacao</th>\n",
              "      <th>genero</th>\n",
              "      <th>canal_recrutamento</th>\n",
              "      <th>numero_treinamentos</th>\n",
              "      <th>idade</th>\n",
              "      <th>tempo_servico</th>\n",
              "      <th>promovido</th>\n",
              "    </tr>\n",
              "    <tr>\n",
              "      <th>aval_ano_anterior</th>\n",
              "      <th></th>\n",
              "      <th></th>\n",
              "      <th></th>\n",
              "      <th></th>\n",
              "      <th></th>\n",
              "      <th></th>\n",
              "      <th></th>\n",
              "      <th></th>\n",
              "      <th></th>\n",
              "      <th></th>\n",
              "    </tr>\n",
              "  </thead>\n",
              "  <tbody>\n",
              "    <tr>\n",
              "      <th>1.0</th>\n",
              "      <td>6223</td>\n",
              "      <td>6223</td>\n",
              "      <td>6223</td>\n",
              "      <td>5887</td>\n",
              "      <td>6223</td>\n",
              "      <td>6223</td>\n",
              "      <td>6223</td>\n",
              "      <td>6223</td>\n",
              "      <td>6223</td>\n",
              "      <td>6223</td>\n",
              "    </tr>\n",
              "    <tr>\n",
              "      <th>2.0</th>\n",
              "      <td>4225</td>\n",
              "      <td>4225</td>\n",
              "      <td>4225</td>\n",
              "      <td>4035</td>\n",
              "      <td>4225</td>\n",
              "      <td>4225</td>\n",
              "      <td>4225</td>\n",
              "      <td>4225</td>\n",
              "      <td>4225</td>\n",
              "      <td>4225</td>\n",
              "    </tr>\n",
              "    <tr>\n",
              "      <th>3.0</th>\n",
              "      <td>18618</td>\n",
              "      <td>18618</td>\n",
              "      <td>18618</td>\n",
              "      <td>17867</td>\n",
              "      <td>18618</td>\n",
              "      <td>18618</td>\n",
              "      <td>18618</td>\n",
              "      <td>18618</td>\n",
              "      <td>18618</td>\n",
              "      <td>18618</td>\n",
              "    </tr>\n",
              "    <tr>\n",
              "      <th>4.0</th>\n",
              "      <td>9877</td>\n",
              "      <td>9877</td>\n",
              "      <td>9877</td>\n",
              "      <td>9509</td>\n",
              "      <td>9877</td>\n",
              "      <td>9877</td>\n",
              "      <td>9877</td>\n",
              "      <td>9877</td>\n",
              "      <td>9877</td>\n",
              "      <td>9877</td>\n",
              "    </tr>\n",
              "    <tr>\n",
              "      <th>5.0</th>\n",
              "      <td>11741</td>\n",
              "      <td>11741</td>\n",
              "      <td>11741</td>\n",
              "      <td>11362</td>\n",
              "      <td>11741</td>\n",
              "      <td>11741</td>\n",
              "      <td>11741</td>\n",
              "      <td>11741</td>\n",
              "      <td>11741</td>\n",
              "      <td>11741</td>\n",
              "    </tr>\n",
              "  </tbody>\n",
              "</table>\n",
              "</div>\n",
              "      <button class=\"colab-df-convert\" onclick=\"convertToInteractive('df-3c49ba6f-8ccb-4e0f-944d-fab27e36f0a8')\"\n",
              "              title=\"Convert this dataframe to an interactive table.\"\n",
              "              style=\"display:none;\">\n",
              "        \n",
              "  <svg xmlns=\"http://www.w3.org/2000/svg\" height=\"24px\"viewBox=\"0 0 24 24\"\n",
              "       width=\"24px\">\n",
              "    <path d=\"M0 0h24v24H0V0z\" fill=\"none\"/>\n",
              "    <path d=\"M18.56 5.44l.94 2.06.94-2.06 2.06-.94-2.06-.94-.94-2.06-.94 2.06-2.06.94zm-11 1L8.5 8.5l.94-2.06 2.06-.94-2.06-.94L8.5 2.5l-.94 2.06-2.06.94zm10 10l.94 2.06.94-2.06 2.06-.94-2.06-.94-.94-2.06-.94 2.06-2.06.94z\"/><path d=\"M17.41 7.96l-1.37-1.37c-.4-.4-.92-.59-1.43-.59-.52 0-1.04.2-1.43.59L10.3 9.45l-7.72 7.72c-.78.78-.78 2.05 0 2.83L4 21.41c.39.39.9.59 1.41.59.51 0 1.02-.2 1.41-.59l7.78-7.78 2.81-2.81c.8-.78.8-2.07 0-2.86zM5.41 20L4 18.59l7.72-7.72 1.47 1.35L5.41 20z\"/>\n",
              "  </svg>\n",
              "      </button>\n",
              "      \n",
              "  <style>\n",
              "    .colab-df-container {\n",
              "      display:flex;\n",
              "      flex-wrap:wrap;\n",
              "      gap: 12px;\n",
              "    }\n",
              "\n",
              "    .colab-df-convert {\n",
              "      background-color: #E8F0FE;\n",
              "      border: none;\n",
              "      border-radius: 50%;\n",
              "      cursor: pointer;\n",
              "      display: none;\n",
              "      fill: #1967D2;\n",
              "      height: 32px;\n",
              "      padding: 0 0 0 0;\n",
              "      width: 32px;\n",
              "    }\n",
              "\n",
              "    .colab-df-convert:hover {\n",
              "      background-color: #E2EBFA;\n",
              "      box-shadow: 0px 1px 2px rgba(60, 64, 67, 0.3), 0px 1px 3px 1px rgba(60, 64, 67, 0.15);\n",
              "      fill: #174EA6;\n",
              "    }\n",
              "\n",
              "    [theme=dark] .colab-df-convert {\n",
              "      background-color: #3B4455;\n",
              "      fill: #D2E3FC;\n",
              "    }\n",
              "\n",
              "    [theme=dark] .colab-df-convert:hover {\n",
              "      background-color: #434B5C;\n",
              "      box-shadow: 0px 1px 3px 1px rgba(0, 0, 0, 0.15);\n",
              "      filter: drop-shadow(0px 1px 2px rgba(0, 0, 0, 0.3));\n",
              "      fill: #FFFFFF;\n",
              "    }\n",
              "  </style>\n",
              "\n",
              "      <script>\n",
              "        const buttonEl =\n",
              "          document.querySelector('#df-3c49ba6f-8ccb-4e0f-944d-fab27e36f0a8 button.colab-df-convert');\n",
              "        buttonEl.style.display =\n",
              "          google.colab.kernel.accessAllowed ? 'block' : 'none';\n",
              "\n",
              "        async function convertToInteractive(key) {\n",
              "          const element = document.querySelector('#df-3c49ba6f-8ccb-4e0f-944d-fab27e36f0a8');\n",
              "          const dataTable =\n",
              "            await google.colab.kernel.invokeFunction('convertToInteractive',\n",
              "                                                     [key], {});\n",
              "          if (!dataTable) return;\n",
              "\n",
              "          const docLinkHtml = 'Like what you see? Visit the ' +\n",
              "            '<a target=\"_blank\" href=https://colab.research.google.com/notebooks/data_table.ipynb>data table notebook</a>'\n",
              "            + ' to learn more about interactive tables.';\n",
              "          element.innerHTML = '';\n",
              "          dataTable['output_type'] = 'display_data';\n",
              "          await google.colab.output.renderOutput(dataTable, element);\n",
              "          const docLink = document.createElement('div');\n",
              "          docLink.innerHTML = docLinkHtml;\n",
              "          element.appendChild(docLink);\n",
              "        }\n",
              "      </script>\n",
              "    </div>\n",
              "  </div>\n",
              "  "
            ]
          },
          "metadata": {},
          "execution_count": 10
        }
      ]
    },
    {
      "cell_type": "code",
      "source": [
        "sns.countplot(dadosRH['aval_ano_anterior'])"
      ],
      "metadata": {
        "colab": {
          "base_uri": "https://localhost:8080/",
          "height": 352
        },
        "id": "xuEPnmZJtBjW",
        "outputId": "b812884a-896a-411f-a481-89dbb217f42f"
      },
      "execution_count": 11,
      "outputs": [
        {
          "output_type": "stream",
          "name": "stderr",
          "text": [
            "/usr/local/lib/python3.7/dist-packages/seaborn/_decorators.py:43: FutureWarning: Pass the following variable as a keyword arg: x. From version 0.12, the only valid positional argument will be `data`, and passing other arguments without an explicit keyword will result in an error or misinterpretation.\n",
            "  FutureWarning\n"
          ]
        },
        {
          "output_type": "execute_result",
          "data": {
            "text/plain": [
              "<matplotlib.axes._subplots.AxesSubplot at 0x7f259aaf9650>"
            ]
          },
          "metadata": {},
          "execution_count": 11
        },
        {
          "output_type": "display_data",
          "data": {
            "text/plain": [
              "<Figure size 432x288 with 1 Axes>"
            ],
            "image/png": "[encoded data removed]"
          },
          "metadata": {
            "needs_background": "light"
          }
        }
      ]
    },
    {
      "cell_type": "markdown",
      "source": [
        "Vamos aplicar imputação e preencher os valores ausentes"
      ],
      "metadata": {
        "id": "V5XFYB-Sv8bN"
      }
    },
    {
      "cell_type": "code",
      "source": [
        "dadosRH['educacao'].fillna(dadosRH['educacao'].mode()[0], inplace = True)"
      ],
      "metadata": {
        "id": "8Qn3IKbRwAoO"
      },
      "execution_count": 12,
      "outputs": []
    },
    {
      "cell_type": "code",
      "source": [
        "dadosRH['aval_ano_anterior'].fillna(dadosRH['aval_ano_anterior'].median(), inplace = True)"
      ],
      "metadata": {
        "id": "QVfUiw5awUjh"
      },
      "execution_count": 13,
      "outputs": []
    },
    {
      "cell_type": "code",
      "source": [
        "dadosRH.isnull().sum()"
      ],
      "metadata": {
        "colab": {
          "base_uri": "https://localhost:8080/"
        },
        "id": "cUFGYnzawVBO",
        "outputId": "c1c52d19-79d3-4472-b8b7-a5f7cf42e54f"
      },
      "execution_count": 15,
      "outputs": [
        {
          "output_type": "execute_result",
          "data": {
            "text/plain": [
              "id_funcionario         0\n",
              "departmento            0\n",
              "regiao                 0\n",
              "educacao               0\n",
              "genero                 0\n",
              "canal_recrutamento     0\n",
              "numero_treinamentos    0\n",
              "idade                  0\n",
              "aval_ano_anterior      0\n",
              "tempo_servico          0\n",
              "promovido              0\n",
              "dtype: int64"
            ]
          },
          "metadata": {},
          "execution_count": 15
        }
      ]
    },
    {
      "cell_type": "code",
      "source": [
        "dadosRH.groupby(['educacao']).count()"
      ],
      "metadata": {
        "colab": {
          "base_uri": "https://localhost:8080/",
          "height": 175
        },
        "id": "rORSpbClwVZx",
        "outputId": "8fd67cfe-c20e-4e1f-9379-23cc61f6019f"
      },
      "execution_count": 16,
      "outputs": [
        {
          "output_type": "execute_result",
          "data": {
            "text/plain": [
              "                       id_funcionario  departmento  regiao  genero  \\\n",
              "educacao                                                             \n",
              "Ensino Medio                      805          805     805     805   \n",
              "Mestrado ou Doutorado           14925        14925   14925   14925   \n",
              "Superior                        39078        39078   39078   39078   \n",
              "\n",
              "                       canal_recrutamento  numero_treinamentos  idade  \\\n",
              "educacao                                                                \n",
              "Ensino Medio                          805                  805    805   \n",
              "Mestrado ou Doutorado               14925                14925  14925   \n",
              "Superior                            39078                39078  39078   \n",
              "\n",
              "                       aval_ano_anterior  tempo_servico  promovido  \n",
              "educacao                                                            \n",
              "Ensino Medio                         805            805        805  \n",
              "Mestrado ou Doutorado              14925          14925      14925  \n",
              "Superior                           39078          39078      39078  "
            ],
            "text/html": [
              "\n",
              "  <div id=\"df-2a047e67-1451-410a-bc3a-5078b47c3fef\">\n",
              "    <div class=\"colab-df-container\">\n",
              "      <div>\n",
              "<style scoped>\n",
              "    .dataframe tbody tr th:only-of-type {\n",
              "        vertical-align: middle;\n",
              "    }\n",
              "\n",
              "    .dataframe tbody tr th {\n",
              "        vertical-align: top;\n",
              "    }\n",
              "\n",
              "    .dataframe thead th {\n",
              "        text-align: right;\n",
              "    }\n",
              "</style>\n",
              "<table border=\"1\" class=\"dataframe\">\n",
              "  <thead>\n",
              "    <tr style=\"text-align: right;\">\n",
              "      <th></th>\n",
              "      <th>id_funcionario</th>\n",
              "      <th>departmento</th>\n",
              "      <th>regiao</th>\n",
              "      <th>genero</th>\n",
              "      <th>canal_recrutamento</th>\n",
              "      <th>numero_treinamentos</th>\n",
              "      <th>idade</th>\n",
              "      <th>aval_ano_anterior</th>\n",
              "      <th>tempo_servico</th>\n",
              "      <th>promovido</th>\n",
              "    </tr>\n",
              "    <tr>\n",
              "      <th>educacao</th>\n",
              "      <th></th>\n",
              "      <th></th>\n",
              "      <th></th>\n",
              "      <th></th>\n",
              "      <th></th>\n",
              "      <th></th>\n",
              "      <th></th>\n",
              "      <th></th>\n",
              "      <th></th>\n",
              "      <th></th>\n",
              "    </tr>\n",
              "  </thead>\n",
              "  <tbody>\n",
              "    <tr>\n",
              "      <th>Ensino Medio</th>\n",
              "      <td>805</td>\n",
              "      <td>805</td>\n",
              "      <td>805</td>\n",
              "      <td>805</td>\n",
              "      <td>805</td>\n",
              "      <td>805</td>\n",
              "      <td>805</td>\n",
              "      <td>805</td>\n",
              "      <td>805</td>\n",
              "      <td>805</td>\n",
              "    </tr>\n",
              "    <tr>\n",
              "      <th>Mestrado ou Doutorado</th>\n",
              "      <td>14925</td>\n",
              "      <td>14925</td>\n",
              "      <td>14925</td>\n",
              "      <td>14925</td>\n",
              "      <td>14925</td>\n",
              "      <td>14925</td>\n",
              "      <td>14925</td>\n",
              "      <td>14925</td>\n",
              "      <td>14925</td>\n",
              "      <td>14925</td>\n",
              "    </tr>\n",
              "    <tr>\n",
              "      <th>Superior</th>\n",
              "      <td>39078</td>\n",
              "      <td>39078</td>\n",
              "      <td>39078</td>\n",
              "      <td>39078</td>\n",
              "      <td>39078</td>\n",
              "      <td>39078</td>\n",
              "      <td>39078</td>\n",
              "      <td>39078</td>\n",
              "      <td>39078</td>\n",
              "      <td>39078</td>\n",
              "    </tr>\n",
              "  </tbody>\n",
              "</table>\n",
              "</div>\n",
              "      <button class=\"colab-df-convert\" onclick=\"convertToInteractive('df-2a047e67-1451-410a-bc3a-5078b47c3fef')\"\n",
              "              title=\"Convert this dataframe to an interactive table.\"\n",
              "              style=\"display:none;\">\n",
              "        \n",
              "  <svg xmlns=\"http://www.w3.org/2000/svg\" height=\"24px\"viewBox=\"0 0 24 24\"\n",
              "       width=\"24px\">\n",
              "    <path d=\"M0 0h24v24H0V0z\" fill=\"none\"/>\n",
              "    <path d=\"M18.56 5.44l.94 2.06.94-2.06 2.06-.94-2.06-.94-.94-2.06-.94 2.06-2.06.94zm-11 1L8.5 8.5l.94-2.06 2.06-.94-2.06-.94L8.5 2.5l-.94 2.06-2.06.94zm10 10l.94 2.06.94-2.06 2.06-.94-2.06-.94-.94-2.06-.94 2.06-2.06.94z\"/><path d=\"M17.41 7.96l-1.37-1.37c-.4-.4-.92-.59-1.43-.59-.52 0-1.04.2-1.43.59L10.3 9.45l-7.72 7.72c-.78.78-.78 2.05 0 2.83L4 21.41c.39.39.9.59 1.41.59.51 0 1.02-.2 1.41-.59l7.78-7.78 2.81-2.81c.8-.78.8-2.07 0-2.86zM5.41 20L4 18.59l7.72-7.72 1.47 1.35L5.41 20z\"/>\n",
              "  </svg>\n",
              "      </button>\n",
              "      \n",
              "  <style>\n",
              "    .colab-df-container {\n",
              "      display:flex;\n",
              "      flex-wrap:wrap;\n",
              "      gap: 12px;\n",
              "    }\n",
              "\n",
              "    .colab-df-convert {\n",
              "      background-color: #E8F0FE;\n",
              "      border: none;\n",
              "      border-radius: 50%;\n",
              "      cursor: pointer;\n",
              "      display: none;\n",
              "      fill: #1967D2;\n",
              "      height: 32px;\n",
              "      padding: 0 0 0 0;\n",
              "      width: 32px;\n",
              "    }\n",
              "\n",
              "    .colab-df-convert:hover {\n",
              "      background-color: #E2EBFA;\n",
              "      box-shadow: 0px 1px 2px rgba(60, 64, 67, 0.3), 0px 1px 3px 1px rgba(60, 64, 67, 0.15);\n",
              "      fill: #174EA6;\n",
              "    }\n",
              "\n",
              "    [theme=dark] .colab-df-convert {\n",
              "      background-color: #3B4455;\n",
              "      fill: #D2E3FC;\n",
              "    }\n",
              "\n",
              "    [theme=dark] .colab-df-convert:hover {\n",
              "      background-color: #434B5C;\n",
              "      box-shadow: 0px 1px 3px 1px rgba(0, 0, 0, 0.15);\n",
              "      filter: drop-shadow(0px 1px 2px rgba(0, 0, 0, 0.3));\n",
              "      fill: #FFFFFF;\n",
              "    }\n",
              "  </style>\n",
              "\n",
              "      <script>\n",
              "        const buttonEl =\n",
              "          document.querySelector('#df-2a047e67-1451-410a-bc3a-5078b47c3fef button.colab-df-convert');\n",
              "        buttonEl.style.display =\n",
              "          google.colab.kernel.accessAllowed ? 'block' : 'none';\n",
              "\n",
              "        async function convertToInteractive(key) {\n",
              "          const element = document.querySelector('#df-2a047e67-1451-410a-bc3a-5078b47c3fef');\n",
              "          const dataTable =\n",
              "            await google.colab.kernel.invokeFunction('convertToInteractive',\n",
              "                                                     [key], {});\n",
              "          if (!dataTable) return;\n",
              "\n",
              "          const docLinkHtml = 'Like what you see? Visit the ' +\n",
              "            '<a target=\"_blank\" href=https://colab.research.google.com/notebooks/data_table.ipynb>data table notebook</a>'\n",
              "            + ' to learn more about interactive tables.';\n",
              "          element.innerHTML = '';\n",
              "          dataTable['output_type'] = 'display_data';\n",
              "          await google.colab.output.renderOutput(dataTable, element);\n",
              "          const docLink = document.createElement('div');\n",
              "          docLink.innerHTML = docLinkHtml;\n",
              "          element.appendChild(docLink);\n",
              "        }\n",
              "      </script>\n",
              "    </div>\n",
              "  </div>\n",
              "  "
            ]
          },
          "metadata": {},
          "execution_count": 16
        }
      ]
    },
    {
      "cell_type": "code",
      "source": [
        "dadosRH.groupby(['aval_ano_anterior']).count()"
      ],
      "metadata": {
        "colab": {
          "base_uri": "https://localhost:8080/",
          "height": 238
        },
        "id": "9Hr8nUgswVhS",
        "outputId": "f0e8cc5c-f0f8-4fff-d8d4-c1e9402c9429"
      },
      "execution_count": 17,
      "outputs": [
        {
          "output_type": "execute_result",
          "data": {
            "text/plain": [
              "                   id_funcionario  departmento  regiao  educacao  genero  \\\n",
              "aval_ano_anterior                                                          \n",
              "1.0                          6223         6223    6223      6223    6223   \n",
              "2.0                          4225         4225    4225      4225    4225   \n",
              "3.0                         22742        22742   22742     22742   22742   \n",
              "4.0                          9877         9877    9877      9877    9877   \n",
              "5.0                         11741        11741   11741     11741   11741   \n",
              "\n",
              "                   canal_recrutamento  numero_treinamentos  idade  \\\n",
              "aval_ano_anterior                                                   \n",
              "1.0                              6223                 6223   6223   \n",
              "2.0                              4225                 4225   4225   \n",
              "3.0                             22742                22742  22742   \n",
              "4.0                              9877                 9877   9877   \n",
              "5.0                             11741                11741  11741   \n",
              "\n",
              "                   tempo_servico  promovido  \n",
              "aval_ano_anterior                            \n",
              "1.0                         6223       6223  \n",
              "2.0                         4225       4225  \n",
              "3.0                        22742      22742  \n",
              "4.0                         9877       9877  \n",
              "5.0                        11741      11741  "
            ],
            "text/html": [
              "\n",
              "  <div id=\"df-a9e65e44-6beb-42a0-9a41-3c1eda07887f\">\n",
              "    <div class=\"colab-df-container\">\n",
              "      <div>\n",
              "<style scoped>\n",
              "    .dataframe tbody tr th:only-of-type {\n",
              "        vertical-align: middle;\n",
              "    }\n",
              "\n",
              "    .dataframe tbody tr th {\n",
              "        vertical-align: top;\n",
              "    }\n",
              "\n",
              "    .dataframe thead th {\n",
              "        text-align: right;\n",
              "    }\n",
              "</style>\n",
              "<table border=\"1\" class=\"dataframe\">\n",
              "  <thead>\n",
              "    <tr style=\"text-align: right;\">\n",
              "      <th></th>\n",
              "      <th>id_funcionario</th>\n",
              "      <th>departmento</th>\n",
              "      <th>regiao</th>\n",
              "      <th>educacao</th>\n",
              "      <th>genero</th>\n",
              "      <th>canal_recrutamento</th>\n",
              "      <th>numero_treinamentos</th>\n",
              "      <th>idade</th>\n",
              "      <th>tempo_servico</th>\n",
              "      <th>promovido</th>\n",
              "    </tr>\n",
              "    <tr>\n",
              "      <th>aval_ano_anterior</th>\n",
              "      <th></th>\n",
              "      <th></th>\n",
              "      <th></th>\n",
              "      <th></th>\n",
              "      <th></th>\n",
              "      <th></th>\n",
              "      <th></th>\n",
              "      <th></th>\n",
              "      <th></th>\n",
              "      <th></th>\n",
              "    </tr>\n",
              "  </thead>\n",
              "  <tbody>\n",
              "    <tr>\n",
              "      <th>1.0</th>\n",
              "      <td>6223</td>\n",
              "      <td>6223</td>\n",
              "      <td>6223</td>\n",
              "      <td>6223</td>\n",
              "      <td>6223</td>\n",
              "      <td>6223</td>\n",
              "      <td>6223</td>\n",
              "      <td>6223</td>\n",
              "      <td>6223</td>\n",
              "      <td>6223</td>\n",
              "    </tr>\n",
              "    <tr>\n",
              "      <th>2.0</th>\n",
              "      <td>4225</td>\n",
              "      <td>4225</td>\n",
              "      <td>4225</td>\n",
              "      <td>4225</td>\n",
              "      <td>4225</td>\n",
              "      <td>4225</td>\n",
              "      <td>4225</td>\n",
              "      <td>4225</td>\n",
              "      <td>4225</td>\n",
              "      <td>4225</td>\n",
              "    </tr>\n",
              "    <tr>\n",
              "      <th>3.0</th>\n",
              "      <td>22742</td>\n",
              "      <td>22742</td>\n",
              "      <td>22742</td>\n",
              "      <td>22742</td>\n",
              "      <td>22742</td>\n",
              "      <td>22742</td>\n",
              "      <td>22742</td>\n",
              "      <td>22742</td>\n",
              "      <td>22742</td>\n",
              "      <td>22742</td>\n",
              "    </tr>\n",
              "    <tr>\n",
              "      <th>4.0</th>\n",
              "      <td>9877</td>\n",
              "      <td>9877</td>\n",
              "      <td>9877</td>\n",
              "      <td>9877</td>\n",
              "      <td>9877</td>\n",
              "      <td>9877</td>\n",
              "      <td>9877</td>\n",
              "      <td>9877</td>\n",
              "      <td>9877</td>\n",
              "      <td>9877</td>\n",
              "    </tr>\n",
              "    <tr>\n",
              "      <th>5.0</th>\n",
              "      <td>11741</td>\n",
              "      <td>11741</td>\n",
              "      <td>11741</td>\n",
              "      <td>11741</td>\n",
              "      <td>11741</td>\n",
              "      <td>11741</td>\n",
              "      <td>11741</td>\n",
              "      <td>11741</td>\n",
              "      <td>11741</td>\n",
              "      <td>11741</td>\n",
              "    </tr>\n",
              "  </tbody>\n",
              "</table>\n",
              "</div>\n",
              "      <button class=\"colab-df-convert\" onclick=\"convertToInteractive('df-a9e65e44-6beb-42a0-9a41-3c1eda07887f')\"\n",
              "              title=\"Convert this dataframe to an interactive table.\"\n",
              "              style=\"display:none;\">\n",
              "        \n",
              "  <svg xmlns=\"http://www.w3.org/2000/svg\" height=\"24px\"viewBox=\"0 0 24 24\"\n",
              "       width=\"24px\">\n",
              "    <path d=\"M0 0h24v24H0V0z\" fill=\"none\"/>\n",
              "    <path d=\"M18.56 5.44l.94 2.06.94-2.06 2.06-.94-2.06-.94-.94-2.06-.94 2.06-2.06.94zm-11 1L8.5 8.5l.94-2.06 2.06-.94-2.06-.94L8.5 2.5l-.94 2.06-2.06.94zm10 10l.94 2.06.94-2.06 2.06-.94-2.06-.94-.94-2.06-.94 2.06-2.06.94z\"/><path d=\"M17.41 7.96l-1.37-1.37c-.4-.4-.92-.59-1.43-.59-.52 0-1.04.2-1.43.59L10.3 9.45l-7.72 7.72c-.78.78-.78 2.05 0 2.83L4 21.41c.39.39.9.59 1.41.59.51 0 1.02-.2 1.41-.59l7.78-7.78 2.81-2.81c.8-.78.8-2.07 0-2.86zM5.41 20L4 18.59l7.72-7.72 1.47 1.35L5.41 20z\"/>\n",
              "  </svg>\n",
              "      </button>\n",
              "      \n",
              "  <style>\n",
              "    .colab-df-container {\n",
              "      display:flex;\n",
              "      flex-wrap:wrap;\n",
              "      gap: 12px;\n",
              "    }\n",
              "\n",
              "    .colab-df-convert {\n",
              "      background-color: #E8F0FE;\n",
              "      border: none;\n",
              "      border-radius: 50%;\n",
              "      cursor: pointer;\n",
              "      display: none;\n",
              "      fill: #1967D2;\n",
              "      height: 32px;\n",
              "      padding: 0 0 0 0;\n",
              "      width: 32px;\n",
              "    }\n",
              "\n",
              "    .colab-df-convert:hover {\n",
              "      background-color: #E2EBFA;\n",
              "      box-shadow: 0px 1px 2px rgba(60, 64, 67, 0.3), 0px 1px 3px 1px rgba(60, 64, 67, 0.15);\n",
              "      fill: #174EA6;\n",
              "    }\n",
              "\n",
              "    [theme=dark] .colab-df-convert {\n",
              "      background-color: #3B4455;\n",
              "      fill: #D2E3FC;\n",
              "    }\n",
              "\n",
              "    [theme=dark] .colab-df-convert:hover {\n",
              "      background-color: #434B5C;\n",
              "      box-shadow: 0px 1px 3px 1px rgba(0, 0, 0, 0.15);\n",
              "      filter: drop-shadow(0px 1px 2px rgba(0, 0, 0, 0.3));\n",
              "      fill: #FFFFFF;\n",
              "    }\n",
              "  </style>\n",
              "\n",
              "      <script>\n",
              "        const buttonEl =\n",
              "          document.querySelector('#df-a9e65e44-6beb-42a0-9a41-3c1eda07887f button.colab-df-convert');\n",
              "        buttonEl.style.display =\n",
              "          google.colab.kernel.accessAllowed ? 'block' : 'none';\n",
              "\n",
              "        async function convertToInteractive(key) {\n",
              "          const element = document.querySelector('#df-a9e65e44-6beb-42a0-9a41-3c1eda07887f');\n",
              "          const dataTable =\n",
              "            await google.colab.kernel.invokeFunction('convertToInteractive',\n",
              "                                                     [key], {});\n",
              "          if (!dataTable) return;\n",
              "\n",
              "          const docLinkHtml = 'Like what you see? Visit the ' +\n",
              "            '<a target=\"_blank\" href=https://colab.research.google.com/notebooks/data_table.ipynb>data table notebook</a>'\n",
              "            + ' to learn more about interactive tables.';\n",
              "          element.innerHTML = '';\n",
              "          dataTable['output_type'] = 'display_data';\n",
              "          await google.colab.output.renderOutput(dataTable, element);\n",
              "          const docLink = document.createElement('div');\n",
              "          docLink.innerHTML = docLinkHtml;\n",
              "          element.appendChild(docLink);\n",
              "        }\n",
              "      </script>\n",
              "    </div>\n",
              "  </div>\n",
              "  "
            ]
          },
          "metadata": {},
          "execution_count": 17
        }
      ]
    },
    {
      "cell_type": "markdown",
      "source": [
        "Vamos verificar o balanceamento de classe na variável \"promovido\""
      ],
      "metadata": {
        "id": "3_VGMHNyzeWV"
      }
    },
    {
      "cell_type": "code",
      "source": [
        "dadosRH.groupby(['promovido']).count()"
      ],
      "metadata": {
        "colab": {
          "base_uri": "https://localhost:8080/",
          "height": 143
        },
        "id": "c37Lwv-ZzkLR",
        "outputId": "b764f642-fd2a-4469-b997-fe51a1fa6d77"
      },
      "execution_count": 21,
      "outputs": [
        {
          "output_type": "execute_result",
          "data": {
            "text/plain": [
              "           id_funcionario  departmento  regiao  educacao  genero  \\\n",
              "promovido                                                          \n",
              "0                   50140        50140   50140     50140   50140   \n",
              "1                    4668         4668    4668      4668    4668   \n",
              "\n",
              "           canal_recrutamento  numero_treinamentos  idade  aval_ano_anterior  \\\n",
              "promovido                                                                      \n",
              "0                       50140                50140  50140              50140   \n",
              "1                        4668                 4668   4668               4668   \n",
              "\n",
              "           tempo_servico  \n",
              "promovido                 \n",
              "0                  50140  \n",
              "1                   4668  "
            ],
            "text/html": [
              "\n",
              "  <div id=\"df-b50b331c-6214-4020-834d-6cf09362ffe7\">\n",
              "    <div class=\"colab-df-container\">\n",
              "      <div>\n",
              "<style scoped>\n",
              "    .dataframe tbody tr th:only-of-type {\n",
              "        vertical-align: middle;\n",
              "    }\n",
              "\n",
              "    .dataframe tbody tr th {\n",
              "        vertical-align: top;\n",
              "    }\n",
              "\n",
              "    .dataframe thead th {\n",
              "        text-align: right;\n",
              "    }\n",
              "</style>\n",
              "<table border=\"1\" class=\"dataframe\">\n",
              "  <thead>\n",
              "    <tr style=\"text-align: right;\">\n",
              "      <th></th>\n",
              "      <th>id_funcionario</th>\n",
              "      <th>departmento</th>\n",
              "      <th>regiao</th>\n",
              "      <th>educacao</th>\n",
              "      <th>genero</th>\n",
              "      <th>canal_recrutamento</th>\n",
              "      <th>numero_treinamentos</th>\n",
              "      <th>idade</th>\n",
              "      <th>aval_ano_anterior</th>\n",
              "      <th>tempo_servico</th>\n",
              "    </tr>\n",
              "    <tr>\n",
              "      <th>promovido</th>\n",
              "      <th></th>\n",
              "      <th></th>\n",
              "      <th></th>\n",
              "      <th></th>\n",
              "      <th></th>\n",
              "      <th></th>\n",
              "      <th></th>\n",
              "      <th></th>\n",
              "      <th></th>\n",
              "      <th></th>\n",
              "    </tr>\n",
              "  </thead>\n",
              "  <tbody>\n",
              "    <tr>\n",
              "      <th>0</th>\n",
              "      <td>50140</td>\n",
              "      <td>50140</td>\n",
              "      <td>50140</td>\n",
              "      <td>50140</td>\n",
              "      <td>50140</td>\n",
              "      <td>50140</td>\n",
              "      <td>50140</td>\n",
              "      <td>50140</td>\n",
              "      <td>50140</td>\n",
              "      <td>50140</td>\n",
              "    </tr>\n",
              "    <tr>\n",
              "      <th>1</th>\n",
              "      <td>4668</td>\n",
              "      <td>4668</td>\n",
              "      <td>4668</td>\n",
              "      <td>4668</td>\n",
              "      <td>4668</td>\n",
              "      <td>4668</td>\n",
              "      <td>4668</td>\n",
              "      <td>4668</td>\n",
              "      <td>4668</td>\n",
              "      <td>4668</td>\n",
              "    </tr>\n",
              "  </tbody>\n",
              "</table>\n",
              "</div>\n",
              "      <button class=\"colab-df-convert\" onclick=\"convertToInteractive('df-b50b331c-6214-4020-834d-6cf09362ffe7')\"\n",
              "              title=\"Convert this dataframe to an interactive table.\"\n",
              "              style=\"display:none;\">\n",
              "        \n",
              "  <svg xmlns=\"http://www.w3.org/2000/svg\" height=\"24px\"viewBox=\"0 0 24 24\"\n",
              "       width=\"24px\">\n",
              "    <path d=\"M0 0h24v24H0V0z\" fill=\"none\"/>\n",
              "    <path d=\"M18.56 5.44l.94 2.06.94-2.06 2.06-.94-2.06-.94-.94-2.06-.94 2.06-2.06.94zm-11 1L8.5 8.5l.94-2.06 2.06-.94-2.06-.94L8.5 2.5l-.94 2.06-2.06.94zm10 10l.94 2.06.94-2.06 2.06-.94-2.06-.94-.94-2.06-.94 2.06-2.06.94z\"/><path d=\"M17.41 7.96l-1.37-1.37c-.4-.4-.92-.59-1.43-.59-.52 0-1.04.2-1.43.59L10.3 9.45l-7.72 7.72c-.78.78-.78 2.05 0 2.83L4 21.41c.39.39.9.59 1.41.59.51 0 1.02-.2 1.41-.59l7.78-7.78 2.81-2.81c.8-.78.8-2.07 0-2.86zM5.41 20L4 18.59l7.72-7.72 1.47 1.35L5.41 20z\"/>\n",
              "  </svg>\n",
              "      </button>\n",
              "      \n",
              "  <style>\n",
              "    .colab-df-container {\n",
              "      display:flex;\n",
              "      flex-wrap:wrap;\n",
              "      gap: 12px;\n",
              "    }\n",
              "\n",
              "    .colab-df-convert {\n",
              "      background-color: #E8F0FE;\n",
              "      border: none;\n",
              "      border-radius: 50%;\n",
              "      cursor: pointer;\n",
              "      display: none;\n",
              "      fill: #1967D2;\n",
              "      height: 32px;\n",
              "      padding: 0 0 0 0;\n",
              "      width: 32px;\n",
              "    }\n",
              "\n",
              "    .colab-df-convert:hover {\n",
              "      background-color: #E2EBFA;\n",
              "      box-shadow: 0px 1px 2px rgba(60, 64, 67, 0.3), 0px 1px 3px 1px rgba(60, 64, 67, 0.15);\n",
              "      fill: #174EA6;\n",
              "    }\n",
              "\n",
              "    [theme=dark] .colab-df-convert {\n",
              "      background-color: #3B4455;\n",
              "      fill: #D2E3FC;\n",
              "    }\n",
              "\n",
              "    [theme=dark] .colab-df-convert:hover {\n",
              "      background-color: #434B5C;\n",
              "      box-shadow: 0px 1px 3px 1px rgba(0, 0, 0, 0.15);\n",
              "      filter: drop-shadow(0px 1px 2px rgba(0, 0, 0, 0.3));\n",
              "      fill: #FFFFFF;\n",
              "    }\n",
              "  </style>\n",
              "\n",
              "      <script>\n",
              "        const buttonEl =\n",
              "          document.querySelector('#df-b50b331c-6214-4020-834d-6cf09362ffe7 button.colab-df-convert');\n",
              "        buttonEl.style.display =\n",
              "          google.colab.kernel.accessAllowed ? 'block' : 'none';\n",
              "\n",
              "        async function convertToInteractive(key) {\n",
              "          const element = document.querySelector('#df-b50b331c-6214-4020-834d-6cf09362ffe7');\n",
              "          const dataTable =\n",
              "            await google.colab.kernel.invokeFunction('convertToInteractive',\n",
              "                                                     [key], {});\n",
              "          if (!dataTable) return;\n",
              "\n",
              "          const docLinkHtml = 'Like what you see? Visit the ' +\n",
              "            '<a target=\"_blank\" href=https://colab.research.google.com/notebooks/data_table.ipynb>data table notebook</a>'\n",
              "            + ' to learn more about interactive tables.';\n",
              "          element.innerHTML = '';\n",
              "          dataTable['output_type'] = 'display_data';\n",
              "          await google.colab.output.renderOutput(dataTable, element);\n",
              "          const docLink = document.createElement('div');\n",
              "          docLink.innerHTML = docLinkHtml;\n",
              "          element.appendChild(docLink);\n",
              "        }\n",
              "      </script>\n",
              "    </div>\n",
              "  </div>\n",
              "  "
            ]
          },
          "metadata": {},
          "execution_count": 21
        }
      ]
    },
    {
      "cell_type": "code",
      "source": [
        "sns.countplot(dadosRH['promovido'])"
      ],
      "metadata": {
        "colab": {
          "base_uri": "https://localhost:8080/",
          "height": 351
        },
        "id": "Xxm7ZSKUznkG",
        "outputId": "df4e5aaa-b27f-4912-fdbd-950b7bb8a730"
      },
      "execution_count": 22,
      "outputs": [
        {
          "output_type": "stream",
          "name": "stderr",
          "text": [
            "/usr/local/lib/python3.7/dist-packages/seaborn/_decorators.py:43: FutureWarning: Pass the following variable as a keyword arg: x. From version 0.12, the only valid positional argument will be `data`, and passing other arguments without an explicit keyword will result in an error or misinterpretation.\n",
            "  FutureWarning\n"
          ]
        },
        {
          "output_type": "execute_result",
          "data": {
            "text/plain": [
              "<matplotlib.axes._subplots.AxesSubplot at 0x7f2599f33ed0>"
            ]
          },
          "metadata": {},
          "execution_count": 22
        },
        {
          "output_type": "display_data",
          "data": {
            "text/plain": [
              "<Figure size 432x288 with 1 Axes>"
            ],
            "image/png": "[encoded data removed]"
          },
          "metadata": {
            "needs_background": "light"
          }
        }
      ]
    },
    {
      "cell_type": "code",
      "source": [
        "df_classe_majoritaria = dadosRH[dadosRH.promovido==0]\n",
        "df_classe_minoritaria = dadosRH[dadosRH.promovido==1]"
      ],
      "metadata": {
        "id": "F8Nd16mPznxN"
      },
      "execution_count": 26,
      "outputs": []
    },
    {
      "cell_type": "code",
      "source": [
        "df_classe_majoritaria.shape"
      ],
      "metadata": {
        "colab": {
          "base_uri": "https://localhost:8080/"
        },
        "id": "gzbZjp_Zzn6s",
        "outputId": "ef8c9b98-b4b4-4349-c47c-705700bd83b6"
      },
      "execution_count": 27,
      "outputs": [
        {
          "output_type": "execute_result",
          "data": {
            "text/plain": [
              "(50140, 11)"
            ]
          },
          "metadata": {},
          "execution_count": 27
        }
      ]
    },
    {
      "cell_type": "code",
      "source": [
        "df_classe_minoritaria.shape"
      ],
      "metadata": {
        "colab": {
          "base_uri": "https://localhost:8080/"
        },
        "id": "R0tZpLZvzoD2",
        "outputId": "444816c2-9de1-4a37-c88c-6a9a0849f155"
      },
      "execution_count": 25,
      "outputs": [
        {
          "output_type": "execute_result",
          "data": {
            "text/plain": [
              "(4668, 11)"
            ]
          },
          "metadata": {},
          "execution_count": 25
        }
      ]
    },
    {
      "cell_type": "code",
      "source": [
        "#Upsample da classe minoritária\n",
        "from sklearn.utils import resample\n",
        "df_classe_minoritaria_upsampled = resample(df_classe_minoritaria,\n",
        "                                           replace = True,\n",
        "                                           n_samples = 50140,\n",
        "                                           random_state = 150)"
      ],
      "metadata": {
        "id": "716VLBtXzoNE"
      },
      "execution_count": 28,
      "outputs": []
    },
    {
      "cell_type": "code",
      "source": [
        "dadosRH_balanceados = pd.concat([df_classe_majoritaria, df_classe_minoritaria_upsampled])"
      ],
      "metadata": {
        "id": "24Vf69G1zoWe"
      },
      "execution_count": 29,
      "outputs": []
    },
    {
      "cell_type": "code",
      "source": [
        "dadosRH_balanceados.promovido.value_counts()"
      ],
      "metadata": {
        "colab": {
          "base_uri": "https://localhost:8080/"
        },
        "id": "kYxUY-LP2n_1",
        "outputId": "3bf7717c-6ade-4bb7-aa7e-690ba43870c0"
      },
      "execution_count": 30,
      "outputs": [
        {
          "output_type": "execute_result",
          "data": {
            "text/plain": [
              "0    50140\n",
              "1    50140\n",
              "Name: promovido, dtype: int64"
            ]
          },
          "metadata": {},
          "execution_count": 30
        }
      ]
    },
    {
      "cell_type": "code",
      "source": [
        "dadosRH_balanceados.info()"
      ],
      "metadata": {
        "colab": {
          "base_uri": "https://localhost:8080/"
        },
        "id": "MGsnKaSR2oKs",
        "outputId": "3f6ff9f3-f62d-4351-9b5c-b7361cb5a45f"
      },
      "execution_count": 31,
      "outputs": [
        {
          "output_type": "stream",
          "name": "stdout",
          "text": [
            "<class 'pandas.core.frame.DataFrame'>\n",
            "Int64Index: 100280 entries, 0 to 5869\n",
            "Data columns (total 11 columns):\n",
            " #   Column               Non-Null Count   Dtype  \n",
            "---  ------               --------------   -----  \n",
            " 0   id_funcionario       100280 non-null  int64  \n",
            " 1   departmento          100280 non-null  object \n",
            " 2   regiao               100280 non-null  object \n",
            " 3   educacao             100280 non-null  object \n",
            " 4   genero               100280 non-null  object \n",
            " 5   canal_recrutamento   100280 non-null  object \n",
            " 6   numero_treinamentos  100280 non-null  int64  \n",
            " 7   idade                100280 non-null  int64  \n",
            " 8   aval_ano_anterior    100280 non-null  float64\n",
            " 9   tempo_servico        100280 non-null  int64  \n",
            " 10  promovido            100280 non-null  int64  \n",
            "dtypes: float64(1), int64(5), object(5)\n",
            "memory usage: 9.2+ MB\n"
          ]
        }
      ]
    },
    {
      "cell_type": "code",
      "source": [
        "sns.countplot(dadosRH_balanceados['promovido'])"
      ],
      "metadata": {
        "colab": {
          "base_uri": "https://localhost:8080/",
          "height": 351
        },
        "id": "84F106_p2oVm",
        "outputId": "dea12770-84f8-4d5d-977c-e6f51c526f3c"
      },
      "execution_count": 32,
      "outputs": [
        {
          "output_type": "stream",
          "name": "stderr",
          "text": [
            "/usr/local/lib/python3.7/dist-packages/seaborn/_decorators.py:43: FutureWarning: Pass the following variable as a keyword arg: x. From version 0.12, the only valid positional argument will be `data`, and passing other arguments without an explicit keyword will result in an error or misinterpretation.\n",
            "  FutureWarning\n"
          ]
        },
        {
          "output_type": "execute_result",
          "data": {
            "text/plain": [
              "<matplotlib.axes._subplots.AxesSubplot at 0x7f2599fa6d10>"
            ]
          },
          "metadata": {},
          "execution_count": 32
        },
        {
          "output_type": "display_data",
          "data": {
            "text/plain": [
              "<Figure size 432x288 with 1 Axes>"
            ],
            "image/png": "[encoded data removed]"
          },
          "metadata": {
            "needs_background": "light"
          }
        }
      ]
    },
    {
      "cell_type": "markdown",
      "source": [
        "Os dados estão balanceados. Vamos salvar o dataset com os dados manipulados."
      ],
      "metadata": {
        "id": "8KuzaCUz3HyZ"
      }
    },
    {
      "cell_type": "code",
      "source": [
        "dadosRH_balanceados.to_csv('dadosRH_modificado.csv', encoding = 'utf-8', index = False)"
      ],
      "metadata": {
        "id": "EA48XJC53NAc"
      },
      "execution_count": 33,
      "outputs": []
    },
    {
      "cell_type": "markdown",
      "source": [
        "Agora carregamos os dados e seguimos com o trabalho de análise.\n",
        "\n",
        "A partir daqui executaremos também no Power BI"
      ],
      "metadata": {
        "id": "2DeSlKOT3eL7"
      }
    },
    {
      "cell_type": "code",
      "source": [
        "dataset = pd.read_csv('dadosRH_modificado.csv')\n",
        "dataset.head()"
      ],
      "metadata": {
        "colab": {
          "base_uri": "https://localhost:8080/",
          "height": 206
        },
        "id": "nC-zb0wT3xNH",
        "outputId": "347ea89b-af6d-4b75-f907-29dfcaff752e"
      },
      "execution_count": 34,
      "outputs": [
        {
          "output_type": "execute_result",
          "data": {
            "text/plain": [
              "   id_funcionario departmento    regiao               educacao genero  \\\n",
              "0           65438   Marketing   Sudeste  Mestrado ou Doutorado      F   \n",
              "1           65141   Logistica  Nordeste               Superior      M   \n",
              "2            7513   Marketing   Sudeste               Superior      M   \n",
              "3            2542   Marketing     Norte               Superior      M   \n",
              "4           48945  Tecnologia  Nordeste               Superior      M   \n",
              "\n",
              "  canal_recrutamento  numero_treinamentos  idade  aval_ano_anterior  \\\n",
              "0        Outsourcing                    1     35                5.0   \n",
              "1              Outro                    1     30                5.0   \n",
              "2        Outsourcing                    1     34                3.0   \n",
              "3              Outro                    2     39                1.0   \n",
              "4              Outro                    1     45                3.0   \n",
              "\n",
              "   tempo_servico  promovido  \n",
              "0              8          0  \n",
              "1              4          0  \n",
              "2              7          0  \n",
              "3             10          0  \n",
              "4              2          0  "
            ],
            "text/html": [
              "\n",
              "  <div id=\"df-5585f767-6308-44d1-91b8-e9953a49f3e7\">\n",
              "    <div class=\"colab-df-container\">\n",
              "      <div>\n",
              "<style scoped>\n",
              "    .dataframe tbody tr th:only-of-type {\n",
              "        vertical-align: middle;\n",
              "    }\n",
              "\n",
              "    .dataframe tbody tr th {\n",
              "        vertical-align: top;\n",
              "    }\n",
              "\n",
              "    .dataframe thead th {\n",
              "        text-align: right;\n",
              "    }\n",
              "</style>\n",
              "<table border=\"1\" class=\"dataframe\">\n",
              "  <thead>\n",
              "    <tr style=\"text-align: right;\">\n",
              "      <th></th>\n",
              "      <th>id_funcionario</th>\n",
              "      <th>departmento</th>\n",
              "      <th>regiao</th>\n",
              "      <th>educacao</th>\n",
              "      <th>genero</th>\n",
              "      <th>canal_recrutamento</th>\n",
              "      <th>numero_treinamentos</th>\n",
              "      <th>idade</th>\n",
              "      <th>aval_ano_anterior</th>\n",
              "      <th>tempo_servico</th>\n",
              "      <th>promovido</th>\n",
              "    </tr>\n",
              "  </thead>\n",
              "  <tbody>\n",
              "    <tr>\n",
              "      <th>0</th>\n",
              "      <td>65438</td>\n",
              "      <td>Marketing</td>\n",
              "      <td>Sudeste</td>\n",
              "      <td>Mestrado ou Doutorado</td>\n",
              "      <td>F</td>\n",
              "      <td>Outsourcing</td>\n",
              "      <td>1</td>\n",
              "      <td>35</td>\n",
              "      <td>5.0</td>\n",
              "      <td>8</td>\n",
              "      <td>0</td>\n",
              "    </tr>\n",
              "    <tr>\n",
              "      <th>1</th>\n",
              "      <td>65141</td>\n",
              "      <td>Logistica</td>\n",
              "      <td>Nordeste</td>\n",
              "      <td>Superior</td>\n",
              "      <td>M</td>\n",
              "      <td>Outro</td>\n",
              "      <td>1</td>\n",
              "      <td>30</td>\n",
              "      <td>5.0</td>\n",
              "      <td>4</td>\n",
              "      <td>0</td>\n",
              "    </tr>\n",
              "    <tr>\n",
              "      <th>2</th>\n",
              "      <td>7513</td>\n",
              "      <td>Marketing</td>\n",
              "      <td>Sudeste</td>\n",
              "      <td>Superior</td>\n",
              "      <td>M</td>\n",
              "      <td>Outsourcing</td>\n",
              "      <td>1</td>\n",
              "      <td>34</td>\n",
              "      <td>3.0</td>\n",
              "      <td>7</td>\n",
              "      <td>0</td>\n",
              "    </tr>\n",
              "    <tr>\n",
              "      <th>3</th>\n",
              "      <td>2542</td>\n",
              "      <td>Marketing</td>\n",
              "      <td>Norte</td>\n",
              "      <td>Superior</td>\n",
              "      <td>M</td>\n",
              "      <td>Outro</td>\n",
              "      <td>2</td>\n",
              "      <td>39</td>\n",
              "      <td>1.0</td>\n",
              "      <td>10</td>\n",
              "      <td>0</td>\n",
              "    </tr>\n",
              "    <tr>\n",
              "      <th>4</th>\n",
              "      <td>48945</td>\n",
              "      <td>Tecnologia</td>\n",
              "      <td>Nordeste</td>\n",
              "      <td>Superior</td>\n",
              "      <td>M</td>\n",
              "      <td>Outro</td>\n",
              "      <td>1</td>\n",
              "      <td>45</td>\n",
              "      <td>3.0</td>\n",
              "      <td>2</td>\n",
              "      <td>0</td>\n",
              "    </tr>\n",
              "  </tbody>\n",
              "</table>\n",
              "</div>\n",
              "      <button class=\"colab-df-convert\" onclick=\"convertToInteractive('df-5585f767-6308-44d1-91b8-e9953a49f3e7')\"\n",
              "              title=\"Convert this dataframe to an interactive table.\"\n",
              "              style=\"display:none;\">\n",
              "        \n",
              "  <svg xmlns=\"http://www.w3.org/2000/svg\" height=\"24px\"viewBox=\"0 0 24 24\"\n",
              "       width=\"24px\">\n",
              "    <path d=\"M0 0h24v24H0V0z\" fill=\"none\"/>\n",
              "    <path d=\"M18.56 5.44l.94 2.06.94-2.06 2.06-.94-2.06-.94-.94-2.06-.94 2.06-2.06.94zm-11 1L8.5 8.5l.94-2.06 2.06-.94-2.06-.94L8.5 2.5l-.94 2.06-2.06.94zm10 10l.94 2.06.94-2.06 2.06-.94-2.06-.94-.94-2.06-.94 2.06-2.06.94z\"/><path d=\"M17.41 7.96l-1.37-1.37c-.4-.4-.92-.59-1.43-.59-.52 0-1.04.2-1.43.59L10.3 9.45l-7.72 7.72c-.78.78-.78 2.05 0 2.83L4 21.41c.39.39.9.59 1.41.59.51 0 1.02-.2 1.41-.59l7.78-7.78 2.81-2.81c.8-.78.8-2.07 0-2.86zM5.41 20L4 18.59l7.72-7.72 1.47 1.35L5.41 20z\"/>\n",
              "  </svg>\n",
              "      </button>\n",
              "      \n",
              "  <style>\n",
              "    .colab-df-container {\n",
              "      display:flex;\n",
              "      flex-wrap:wrap;\n",
              "      gap: 12px;\n",
              "    }\n",
              "\n",
              "    .colab-df-convert {\n",
              "      background-color: #E8F0FE;\n",
              "      border: none;\n",
              "      border-radius: 50%;\n",
              "      cursor: pointer;\n",
              "      display: none;\n",
              "      fill: #1967D2;\n",
              "      height: 32px;\n",
              "      padding: 0 0 0 0;\n",
              "      width: 32px;\n",
              "    }\n",
              "\n",
              "    .colab-df-convert:hover {\n",
              "      background-color: #E2EBFA;\n",
              "      box-shadow: 0px 1px 2px rgba(60, 64, 67, 0.3), 0px 1px 3px 1px rgba(60, 64, 67, 0.15);\n",
              "      fill: #174EA6;\n",
              "    }\n",
              "\n",
              "    [theme=dark] .colab-df-convert {\n",
              "      background-color: #3B4455;\n",
              "      fill: #D2E3FC;\n",
              "    }\n",
              "\n",
              "    [theme=dark] .colab-df-convert:hover {\n",
              "      background-color: #434B5C;\n",
              "      box-shadow: 0px 1px 3px 1px rgba(0, 0, 0, 0.15);\n",
              "      filter: drop-shadow(0px 1px 2px rgba(0, 0, 0, 0.3));\n",
              "      fill: #FFFFFF;\n",
              "    }\n",
              "  </style>\n",
              "\n",
              "      <script>\n",
              "        const buttonEl =\n",
              "          document.querySelector('#df-5585f767-6308-44d1-91b8-e9953a49f3e7 button.colab-df-convert');\n",
              "        buttonEl.style.display =\n",
              "          google.colab.kernel.accessAllowed ? 'block' : 'none';\n",
              "\n",
              "        async function convertToInteractive(key) {\n",
              "          const element = document.querySelector('#df-5585f767-6308-44d1-91b8-e9953a49f3e7');\n",
              "          const dataTable =\n",
              "            await google.colab.kernel.invokeFunction('convertToInteractive',\n",
              "                                                     [key], {});\n",
              "          if (!dataTable) return;\n",
              "\n",
              "          const docLinkHtml = 'Like what you see? Visit the ' +\n",
              "            '<a target=\"_blank\" href=https://colab.research.google.com/notebooks/data_table.ipynb>data table notebook</a>'\n",
              "            + ' to learn more about interactive tables.';\n",
              "          element.innerHTML = '';\n",
              "          dataTable['output_type'] = 'display_data';\n",
              "          await google.colab.output.renderOutput(dataTable, element);\n",
              "          const docLink = document.createElement('div');\n",
              "          docLink.innerHTML = docLinkHtml;\n",
              "          element.appendChild(docLink);\n",
              "        }\n",
              "      </script>\n",
              "    </div>\n",
              "  </div>\n",
              "  "
            ]
          },
          "metadata": {},
          "execution_count": 34
        }
      ]
    },
    {
      "cell_type": "code",
      "source": [
        "dataset.shape"
      ],
      "metadata": {
        "colab": {
          "base_uri": "https://localhost:8080/"
        },
        "id": "BF_soTK939Zk",
        "outputId": "5d18fe15-005b-40f7-b9d8-2fa40032e849"
      },
      "execution_count": 35,
      "outputs": [
        {
          "output_type": "execute_result",
          "data": {
            "text/plain": [
              "(100280, 11)"
            ]
          },
          "metadata": {},
          "execution_count": 35
        }
      ]
    },
    {
      "cell_type": "markdown",
      "source": [
        "**Pergunta 1 - Qual a Correlação entre os Atributos dos funionários?**"
      ],
      "metadata": {
        "id": "Jhgzz8Yx5g92"
      }
    },
    {
      "cell_type": "code",
      "source": [
        "import matplotlib.pyplot as plt\n",
        "import seaborn as sns\n",
        "corr = dataset.corr()\n",
        "sns.heatmap(corr, cmap = \"YlOrRd\",linewidths= 0.1)\n",
        "plt.show()"
      ],
      "metadata": {
        "colab": {
          "base_uri": "https://localhost:8080/",
          "height": 369
        },
        "id": "__ou84W75vKL",
        "outputId": "a2f16ee1-5b3f-4d24-9b76-465824aa1522"
      },
      "execution_count": 42,
      "outputs": [
        {
          "output_type": "display_data",
          "data": {
            "text/plain": [
              "<Figure size 432x288 with 2 Axes>"
            ],
            "image/png": "[encoded data removed]"
          },
          "metadata": {
            "needs_background": "light"
          }
        }
      ]
    },
    {
      "cell_type": "markdown",
      "source": [
        "**Pergunta 2 - Qual o Tempo de serviço da maioria dos funcionários?**"
      ],
      "metadata": {
        "id": "7C5u6GUc6E6P"
      }
    },
    {
      "cell_type": "code",
      "source": [
        "import matplotlib.pyplot as plt\n",
        "import seaborn as sns\n",
        "sns.distplot(dataset['tempo_servico'], color = 'green')\n",
        "plt.title('Distribuição do Tempo de Serviço dos Funcionários', fontsize = 15)\n",
        "plt.xlabel('Tempo de Serviço em Anos', fontsize = 15)\n",
        "plt.ylabel('Total')\n",
        "plt.show()"
      ],
      "metadata": {
        "colab": {
          "base_uri": "https://localhost:8080/",
          "height": 358
        },
        "id": "x07_Wlk-6Llu",
        "outputId": "e175c7eb-67ae-4722-8dd4-6ec7b1579873"
      },
      "execution_count": 43,
      "outputs": [
        {
          "output_type": "stream",
          "name": "stderr",
          "text": [
            "/usr/local/lib/python3.7/dist-packages/seaborn/distributions.py:2619: FutureWarning: `distplot` is a deprecated function and will be removed in a future version. Please adapt your code to use either `displot` (a figure-level function with similar flexibility) or `histplot` (an axes-level function for histograms).\n",
            "  warnings.warn(msg, FutureWarning)\n"
          ]
        },
        {
          "output_type": "display_data",
          "data": {
            "text/plain": [
              "<Figure size 432x288 with 1 Axes>"
            ],
            "image/png": "[encoded data removed]"
          },
          "metadata": {
            "needs_background": "light"
          }
        }
      ]
    },
    {
      "cell_type": "markdown",
      "source": [
        "**Pergunta 3 - Qual Avaliação do Ano Anterior Foi mais Comum?**"
      ],
      "metadata": {
        "id": "h2DkaQmv8iqp"
      }
    },
    {
      "cell_type": "code",
      "source": [
        "import matplotlib.pyplot as plt\n",
        "import seaborn as sns\n",
        "dataset['aval_ano_anterior'].value_counts().sort_values().plot.bar(color = 'blue', figsize = (10, 5))\n",
        "plt.title('Distribuição da Avaliação do Ano Anterior dos Funcionarios', fontsize = 15)\n",
        "plt.xlabel('Avaliações', fontsize = 15)\n",
        "plt.ylabel('Total')\n",
        "plt.show()"
      ],
      "metadata": {
        "colab": {
          "base_uri": "https://localhost:8080/",
          "height": 363
        },
        "id": "l6jGmM288rfA",
        "outputId": "3ad4dc58-f957-4f65-b3d0-c0ec375ffa50"
      },
      "execution_count": 44,
      "outputs": [
        {
          "output_type": "display_data",
          "data": {
            "text/plain": [
              "<Figure size 720x360 with 1 Axes>"
            ],
            "image/png": "[encoded data removed]"
          },
          "metadata": {
            "needs_background": "light"
          }
        }
      ]
    },
    {
      "cell_type": "markdown",
      "source": [
        "**Pergunta 4 - Qual a distribuição das idades dos funcionários?**"
      ],
      "metadata": {
        "id": "mal0sCtPPeHk"
      }
    },
    {
      "cell_type": "code",
      "source": [
        "import matplotlib.pyplot as plt\n",
        "import seaborn as sns\n",
        "sns.distplot(dataset['idade'], color = 'magenta')\n",
        "plt.title('Distribuição da Idade dos Funcionários', fontsize = 15)\n",
        "plt.xlabel('Idade', fontsize = 15)\n",
        "plt.ylabel('Total')\n",
        "plt.show()"
      ],
      "metadata": {
        "colab": {
          "base_uri": "https://localhost:8080/",
          "height": 358
        },
        "id": "0f60mhntPjms",
        "outputId": "e4f8edf5-1335-40f6-ba96-bba5e6c98252"
      },
      "execution_count": 45,
      "outputs": [
        {
          "output_type": "stream",
          "name": "stderr",
          "text": [
            "/usr/local/lib/python3.7/dist-packages/seaborn/distributions.py:2619: FutureWarning: `distplot` is a deprecated function and will be removed in a future version. Please adapt your code to use either `displot` (a figure-level function with similar flexibility) or `histplot` (an axes-level function for histograms).\n",
            "  warnings.warn(msg, FutureWarning)\n"
          ]
        },
        {
          "output_type": "display_data",
          "data": {
            "text/plain": [
              "<Figure size 432x288 with 1 Axes>"
            ],
            "image/png": "[encoded data removed]"
          },
          "metadata": {
            "needs_background": "light"
          }
        }
      ]
    },
    {
      "cell_type": "markdown",
      "source": [
        "**Pergunta 5 - Qual o Número de Treinamentos mais Frequente?**"
      ],
      "metadata": {
        "id": "9egemEsmP9u1"
      }
    },
    {
      "cell_type": "code",
      "source": [
        "import matplotlib.pyplot as plt\n",
        "import seaborn as sns\n",
        "sns.violinplot(dataset['numero_treinamentos'], color = 'red')\n",
        "plt.title('Número de Treinamentos Feitos pelos Funcionários', fontsize = 15)\n",
        "plt.xlabel('Número de Treinamentos', fontsize = 15)\n",
        "plt.ylabel('Frequência')\n",
        "plt.show()"
      ],
      "metadata": {
        "colab": {
          "base_uri": "https://localhost:8080/",
          "height": 358
        },
        "id": "Dw9lTQkXQDTs",
        "outputId": "87000058-913e-4106-b1d2-4a57acad9093"
      },
      "execution_count": 46,
      "outputs": [
        {
          "output_type": "stream",
          "name": "stderr",
          "text": [
            "/usr/local/lib/python3.7/dist-packages/seaborn/_decorators.py:43: FutureWarning: Pass the following variable as a keyword arg: x. From version 0.12, the only valid positional argument will be `data`, and passing other arguments without an explicit keyword will result in an error or misinterpretation.\n",
            "  FutureWarning\n"
          ]
        },
        {
          "output_type": "display_data",
          "data": {
            "text/plain": [
              "<Figure size 432x288 with 1 Axes>"
            ],
            "image/png": "[encoded data removed]"
          },
          "metadata": {
            "needs_background": "light"
          }
        }
      ]
    },
    {
      "cell_type": "markdown",
      "source": [
        "**Pergunta 6 - Qual a Proporção dos Funcionários por Canal de Recrutamento?**"
      ],
      "metadata": {
        "id": "OMrhaj7WQk-b"
      }
    },
    {
      "cell_type": "code",
      "source": [
        "import matplotlib.pyplot as plt\n",
        "import seaborn as sns\n",
        "dataset['canal_recrutamento'].value_counts()\n",
        "fatias = [55375, 42358, 2547]\n",
        "labels = \"Outro\", \"Outsourcing\", \"Indicação\"\n",
        "colors = [ 'purple', 'lime', 'yellow']\n",
        "explode = [0, 0, 0]\n",
        "plt.pie(fatias, labels = labels, colors = colors, explode = explode, shadow = True, autopct = \"%.2f%%\")\n",
        "plt.title('Percentual de Funcionários Por Canal de Recrutamento', fontsize = 15)\n",
        "plt.axis ('off')\n",
        "plt.legend()\n",
        "plt.show()"
      ],
      "metadata": {
        "colab": {
          "base_uri": "https://localhost:8080/",
          "height": 266
        },
        "id": "DGMuSBp9QzWO",
        "outputId": "08b77a49-299e-43df-c9b9-901ce44c3c60"
      },
      "execution_count": 47,
      "outputs": [
        {
          "output_type": "display_data",
          "data": {
            "text/plain": [
              "<Figure size 432x288 with 1 Axes>"
            ],
            "image/png": "[encoded data removed]"
          },
          "metadata": {}
        }
      ]
    },
    {
      "cell_type": "markdown",
      "source": [
        "**Pergunta 7 - Qual a Relação Entre a Promoção e a Avaliação do Ano Anterior?**"
      ],
      "metadata": {
        "id": "bLKafaSmSjUY"
      }
    },
    {
      "cell_type": "code",
      "source": [
        "import matplotlib.pyplot as plt\n",
        "import seaborn as sns\n",
        "data = pd.crosstab(dataset['aval_ano_anterior'], dataset['promovido'])\n",
        "data.div(data.sum(1).astype(float), axis =0).plot(kind = 'bar',\n",
        "                                                  stacked = True,\n",
        "                                                  figsize = (16,9),\n",
        "                                                  color = ['blue', 'magenta'])\n",
        "plt.title('Relação Entre Avaliação do Ano Anterior e a Promoção', fontsize = 15)\n",
        "plt.xlabel('Avaliação do Ano Anterior', fontsize = 15)\n",
        "plt.legend()\n",
        "plt.show()\n"
      ],
      "metadata": {
        "colab": {
          "base_uri": "https://localhost:8080/",
          "height": 580
        },
        "id": "qaktIZZMSrI2",
        "outputId": "cbc04f1d-59b6-4a4e-8c7f-72f675569e90"
      },
      "execution_count": 49,
      "outputs": [
        {
          "output_type": "display_data",
          "data": {
            "text/plain": [
              "<Figure size 1152x648 with 1 Axes>"
            ],
            "image/png": "[encoded data removed]"
          },
          "metadata": {
            "needs_background": "light"
          }
        }
      ]
    },
    {
      "cell_type": "markdown",
      "source": [
        "**Fim**"
      ],
      "metadata": {
        "id": "3nfjYCU5VQv3"
      }
    }
  ]
}